{
 "cells": [
  {
   "cell_type": "code",
   "execution_count": 49,
   "id": "6091ada6",
   "metadata": {},
   "outputs": [],
   "source": [
    "import pandas as pd\n",
    "from sklearn.model_selection import train_test_split\n",
    "from sklearn.ensemble import RandomForestRegressor\n",
    "from sklearn.metrics import mean_absolute_error\n",
    "\n",
    "#importamos los datos train\n",
    "train = './uoc_train.csv'\n",
    "data = pd.read_csv(train) \n",
    "#asignamos valores a x y\n",
    "y = data.target\n",
    "features = ['feature1','feature2','feature3','feature4','feature5','feature6','feature7','feature8']\n",
    "x = data[features]\n",
    "#dividimos los datos train en dos para poder ver la eficacia de nuestro modelo\n",
    "train_X, val_X, train_y, val_y = train_test_split(x,y,random_state=1)"
   ]
  },
  {
   "cell_type": "code",
   "execution_count": 50,
   "id": "e4a5df26",
   "metadata": {},
   "outputs": [
    {
     "name": "stdout",
     "output_type": "stream",
     "text": [
      "0.13714285714285715\n",
      "[0.05193031 0.09478117 0.16321309 0.05165309 0.03993739 0.56247412\n",
      " 0.01925548 0.01675534]\n"
     ]
    }
   ],
   "source": [
    "#creamos el modelo random forest\n",
    "model = RandomForestRegressor(random_state=1)\n",
    "#entrenamos el modelo con la mitad de los datos train\n",
    "model.fit(train_X, train_y)\n",
    "#realizamos las predicciones\n",
    "preds = model.predict(val_X)\n",
    "#obtenemos predicciones con datos float así que utilizando round los convertimos en enteros\n",
    "final_preds = [round(i) for i in preds]\n",
    "#mostramos el MAE\n",
    "print(mean_absolute_error(val_y, final_preds))\n",
    "#mostramos la importancia de cada feature en el modelo\n",
    "print(model.feature_importances_)"
   ]
  },
  {
   "cell_type": "markdown",
   "id": "f9c24799",
   "metadata": {},
   "source": [
    "Después de ver que los últimos dos features no tienen casi importancia en el modelo, he probado a construir el modelo sin utilizar estas variables. El resultado ha sido que el MAE ha descendido a 0.1295238095238095 por lo que el modelo ha mejorado su capacidad de predicción. \n",
    "Por este motivo para predecir los valore de los datos test utilizaremos solamente los primero 6 features."
   ]
  },
  {
   "cell_type": "code",
   "execution_count": 37,
   "id": "862ed6b8",
   "metadata": {},
   "outputs": [],
   "source": [
    "#importamos los datos test\n",
    "test = './uoc_X_test.csv'\n",
    "test_data = pd.read_csv(test)\n",
    "#esta vez utilizamos los primeros 6 features\n",
    "final_features = ['feature1','feature2','feature3','feature4','feature5','feature6']\n",
    "#asignamos x train con los nuevos features\n",
    "x = data[final_features]\n",
    "#asignamos x test los features\n",
    "test_x = test_data[final_features]\n",
    "#entrenamos el modelo con los datos de train\n",
    "model.fit(x,y)\n",
    "#realizamos las predicciones\n",
    "predictions = model.predict(test_x)\n",
    "#obtenemos predicciones con datos float así que utilizando round los convertimos en enteros\n",
    "final_predictions = [round(i) for i in predictions]"
   ]
  },
  {
   "cell_type": "code",
   "execution_count": 38,
   "id": "2a6c6ef4",
   "metadata": {},
   "outputs": [],
   "source": [
    "#exportamos el archivo csv con el resultado\n",
    "output = pd.DataFrame({'Resultado': final_predictions})\n",
    "output.to_csv('resultado.csv', index=False)"
   ]
  }
 ],
 "metadata": {
  "kernelspec": {
   "display_name": "Python 3",
   "language": "python",
   "name": "python3"
  },
  "language_info": {
   "codemirror_mode": {
    "name": "ipython",
    "version": 3
   },
   "file_extension": ".py",
   "mimetype": "text/x-python",
   "name": "python",
   "nbconvert_exporter": "python",
   "pygments_lexer": "ipython3",
   "version": "3.8.8"
  }
 },
 "nbformat": 4,
 "nbformat_minor": 5
}
